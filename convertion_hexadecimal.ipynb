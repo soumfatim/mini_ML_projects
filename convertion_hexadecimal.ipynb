{
 "cells": [
  {
   "attachments": {
    "aims-senegal.png": {
     "image/png": "[encoded data removed]"
    }
   },
   "cell_type": "markdown",
   "metadata": {},
   "source": [
    "![aims-senegal.png](attachment:aims-senegal.png)"
   ]
  },
  {
   "cell_type": "markdown",
   "metadata": {},
   "source": [
    "# <center>PROJET DE PYTHON</center>"
   ]
  },
  {
   "cell_type": "markdown",
   "metadata": {},
   "source": [
    "# Théme : Conversion entre la base hexadécimale et la base décimale."
   ]
  },
  {
   "attachments": {
    "t%C3%A9l%C3%A9chargement.png": {
     "image/png": "[encoded data removed]"
    }
   },
   "cell_type": "markdown",
   "metadata": {},
   "source": [
    "![t%C3%A9l%C3%A9chargement.png](attachment:t%C3%A9l%C3%A9chargement.png)"
   ]
  },
  {
   "cell_type": "markdown",
   "metadata": {},
   "source": [
    "### Présenté par :\n",
    "#####    MAME CHEIKH NGOM\n",
    "#####    SOUMAHORO FANTA\n",
    "#####    MAME PENDA NDAO\n",
    "#####    MAMADOU PENE\n",
    "#####    KAMMEGNE Caouis\n",
    "#####    HASSANE DIAKHATE \n",
    "    "
   ]
  },
  {
   "cell_type": "markdown",
   "metadata": {},
   "source": [
    "## PLAN\n",
    "### Introduction\n",
    "### I- Fonction de conversion de l'hexadécimal à décimal\n",
    "### II- Fonction de conversion du décimal à l'hexadécimal\n",
    "### III-Programme principal\n",
    "### Conclusion\n",
    "### Référence"
   ]
  },
  {
   "cell_type": "markdown",
   "metadata": {},
   "source": [
    "# <center>Introduction</center>"
   ]
  },
  {
   "cell_type": "markdown",
   "metadata": {},
   "source": [
    "Les systèmes de numération sont des ensembles de règles d’utilisation des signes, des mots permettant d’écrire ou d’énoncer des nombres [1]. On utilise principalement les systèmes suivants : \n",
    "- Le système numérique décimal, utilisant les chiffres de 0 à 9\n",
    "-Le système numérique binaire, utilisant uniquement les chiffres 0 et 1\n",
    "- Le système numérique hexadécimal utilisant les chiffres de 0 à 9 et les lettres A, B, C, D, E, F.\n",
    "-Le système octal utilisant les chiffres de 0 à 7.  \n",
    "Les systèmes de numérations binaire et hexadécimal sont très utilises en informatique et en électronique [2], le système décimal est utilisé par la plus part  des langages humains tant dis que le système octal mots de 8 bits correspondant aujourd’hui a un byte qui est la plus petite unité de stockage et d’adressage[2]. Il est donc très important de pouvoir passer d’un système à un autre pour que l’homme puisse échanger avec la machine d’où la notion de changement de base numérique.\n",
    "Le système hexadécimal présent de très nombreux avantage, il permet un compromis entre le code binaire des machines et une base de numération pratique à utiliser pour les ingénieurs [2]. En effet chaque chiffre hexadécimal correspond exactement à quatre chiffres binaires, rendant les conversions très simples, fournissant une écriture plus compacte (quatre fois moins de chiffres) et offrant une meilleure lisibilité pour l’œil humain.   \n",
    "\tDans ce travail nous avons écrire deux fonctions pythons dans l’environnement jupyter notebook l’une nommé hex2int qui convertie l’hexadécimal en décimal et l’autre int2hex qui nous permettent de convertir les chiffres hexadécimal en décimal et vice versa. Nous proposons également un programmes qui converti toute les chaines décimal ou hexadécimal en hexadécimal ou décimal respectivement.\n"
   ]
  },
  {
   "cell_type": "markdown",
   "metadata": {},
   "source": [
    "## <center>I- Fonction de conversion de l'hexadécimal à décimal</center>"
   ]
  },
  {
   "cell_type": "markdown",
   "metadata": {},
   "source": [
    "Cette fonction reçoit un seul chiffre hexadécimal et la convertie en décimal. Si le caractère entré n'est pas un chiffre hexadédimal, la fonction retourne un message d'erreur."
   ]
  },
  {
   "cell_type": "code",
   "execution_count": 20,
   "metadata": {
    "scrolled": true
   },
   "outputs": [],
   "source": [
    "\n",
    "def hex2int(string):\n",
    "   \n",
    "    if string in ('0','1','2','3','4','5','6','7','8','9'):\n",
    "        decimal=int(string)\n",
    "   \n",
    "    elif string=='A'or string=='a':\n",
    "        decimal=10\n",
    "        \n",
    "    elif string=='B'or string=='b':\n",
    "        decimal=11\n",
    "    \n",
    "    elif string=='C'or string=='c':\n",
    "        decimal=12\n",
    "    \n",
    "    elif string=='D'or string=='d':\n",
    "        decimal=13\n",
    "    \n",
    "    elif string=='E'or string=='e':\n",
    "        decimal=14\n",
    "    \n",
    "    elif string=='F'or string=='f':\n",
    "        decimal=15\n",
    "    else:\n",
    "        decimal=-1\n",
    "        print(\"Vous avez entrer un mauvais caractere:\",string)\n",
    "    return decimal\n",
    "\n",
    "    \n",
    "\n",
    "\n"
   ]
  },
  {
   "cell_type": "markdown",
   "metadata": {},
   "source": [
    "## <center>II- Fonction de conversion du décimal à l'hexadécimal</center>"
   ]
  },
  {
   "cell_type": "markdown",
   "metadata": {},
   "source": [
    "Cette nouvelle fonction reçoit un nombre décimal entre 0 et 15 et renvoie sa correspondance en représentation en hexadécimal. Si le caractère entré n'est pas compris entre 0 et 15, la fonction retourne un message d'erreur."
   ]
  },
  {
   "cell_type": "code",
   "execution_count": 21,
   "metadata": {},
   "outputs": [],
   "source": [
    "def int2hex(integer):\n",
    "    if integer in (0,1,2,3,4,5,6,7,8,9):\n",
    "        hexa=integer\n",
    "    elif integer==10:\n",
    "         hexa='A'\n",
    "    elif integer==11:\n",
    "        hexa='B'\n",
    "    elif integer==12:\n",
    "        hexa='C'\n",
    "    elif integer==13:\n",
    "        hexa='D'    \n",
    "    elif integer==14:\n",
    "        hexa='E'\n",
    "    elif integer==15:\n",
    "        hexa='F'\n",
    "    else:\n",
    "        print(\"Vous avez entrer un mauvais nombre:\",integer)\n",
    "    return hexa\n"
   ]
  },
  {
   "cell_type": "markdown",
   "metadata": {},
   "source": [
    "## <center>III-Programme principal</center>"
   ]
  },
  {
   "cell_type": "markdown",
   "metadata": {},
   "source": [
    "Dans le programme principal, l'utilisateur a le choix de convertir une chaine hexadecimale en un nombre decimal ou d'un nombre decimal une chaine hexadecimale.\n",
    "Si l'utilisateur choisit la premiere option, le programme lui demande d'entrer une chaine de caractere hexadecimale. Le programme convertie en recuperant la valeur de chaque caractere a partir de la fonction hex2int puis affiche la conversion en decimal. on a une erreur lorsque un des caracteres de la chaine entrée n'est pas dans la base et le programme arrete la conversion. \n",
    "S'il choisit la deuxieme option, le programme lui demande d'entrer un nombre decimal. le programme convertie en recuperant les reste de la divison du nombre par 16, il les stocke dans une liste ensuite il recupere chaque element de la liste puis les convertie en hexadecimal en utilsant la fonction int2hex. enfin il renvoit les valeurs de la liste renversée.\n",
    "le programme propose a l'utilisateur de continuer ou de quitter."
   ]
  },
  {
   "cell_type": "code",
   "execution_count": null,
   "metadata": {
    "scrolled": true
   },
   "outputs": [
    {
     "name": "stdout",
     "output_type": "stream",
     "text": [
      "Pour convertir un hexadecimal en un decimal tapez 1 ou 2 pour un decimal en un hexadecimal :1\n",
      "enter votre chaine de type hexadecimal:w254\n",
      "Vous avez entrer un mauvais caractere: w\n"
     ]
    }
   ],
   "source": [
    "stop='oui'\n",
    "while stop!='non':\n",
    "    \n",
    "    choix=int(input(\"Pour convertir un hexadecimal en un decimal tapez 1 ou 2 pour un decimal en un hexadecimal :\"))\n",
    "\n",
    "    if choix==1:\n",
    "\n",
    "        string=input(\"enter votre chaine de type hexadecimal:\")\n",
    "        somme=0\n",
    "        \n",
    "        \n",
    "        for i in range(0,len(string)):\n",
    "\n",
    "            if hex2int(string[i])==-1 :\n",
    "                somme=-2\n",
    "                break\n",
    "\n",
    "            else:    \n",
    "                somme+=hex2int(string[i])*16**((len(string)-1)-i)\n",
    "\n",
    "        if somme!=-2:\n",
    "            print(\"En nombre decimal on a:\",somme)\n",
    "\n",
    "\n",
    "\n",
    "    elif choix==2:\n",
    "\n",
    "        integer=int(input(\"Entrer un nombre entre :\"))\n",
    "        liste=[]\n",
    "\n",
    "        while integer>=16:\n",
    "            liste.append(integer%16)\n",
    "\n",
    "            integer=integer//16\n",
    "            if integer<16:\n",
    "                liste.append(integer) \n",
    "        liste.reverse()      \n",
    "        for i in range(len(liste)):\n",
    "            print(int2hex(liste[i]),end=\"\")\n",
    "    stop=input(\"voulez-vous continuer? si oui tapez oui sinon tapez non:\")"
   ]
  },
  {
   "cell_type": "markdown",
   "metadata": {},
   "source": [
    "## <center>CONCLUSION</center>"
   ]
  },
  {
   "cell_type": "markdown",
   "metadata": {},
   "source": [
    "Dans ce travail, nous avions pour but d’écrire deux fonctions permettant de faire un changement de base entre le système décimal et hexadécimal.  La première fonction nommée hex2int permet de convertir tous les chiffres hexadécimaux en décimal et la deuxième nommée int2hex fait l’opération contraire. Pour pourvoir convertir toute les nombres décimal en hexadécimal et vice versa, nous avons à partir de ces deux fonctions, proposé un programme qui demande à l’utilisateur un nombre décimal (ou hexadécimal) et donne sa correspondance hexadécimal (ou décimal).  "
   ]
  },
  {
   "cell_type": "markdown",
   "metadata": {},
   "source": [
    "## <center>REFERENCES</center>"
   ]
  },
  {
   "cell_type": "markdown",
   "metadata": {},
   "source": [
    "#### [1] https://info.blaisepascal.fr/isn-systemes-de-numeration\n",
    "  \n",
    "#### [2] https://fr.wikipedia.org/wiki/Systme_hexadecimal"
   ]
  },
  {
   "cell_type": "code",
   "execution_count": null,
   "metadata": {},
   "outputs": [],
   "source": []
  }
 ],
 "metadata": {
  "kernelspec": {
   "display_name": "Python 3",
   "language": "python",
   "name": "python3"
  },
  "language_info": {
   "codemirror_mode": {
    "name": "ipython",
    "version": 3
   },
   "file_extension": ".py",
   "mimetype": "text/x-python",
   "name": "python",
   "nbconvert_exporter": "python",
   "pygments_lexer": "ipython3",
   "version": "3.7.3"
  }
 },
 "nbformat": 4,
 "nbformat_minor": 2
}

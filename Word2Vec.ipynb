{
  "nbformat": 4,
  "nbformat_minor": 0,
  "metadata": {
    "colab": {
      "name": "GRP_2_Assign01_NLP.ipynb",
      "provenance": [],
      "collapsed_sections": [],
      "toc_visible": true
    },
    "kernelspec": {
      "display_name": "Python 3",
      "language": "python",
      "name": "python3"
    },
    "language_info": {
      "codemirror_mode": {
        "name": "ipython",
        "version": 3
      },
      "file_extension": ".py",
      "mimetype": "text/x-python",
      "name": "python",
      "nbconvert_exporter": "python",
      "pygments_lexer": "ipython3",
      "version": "3.8.5"
    }
  },
  "cells": [
    {
      "cell_type": "code",
      "metadata": {
        "colab": {
          "base_uri": "https://localhost:8080/"
        },
        "id": "kBMnmzaGnGYv",
        "outputId": "cfbf7ae3-1b63-48f2-94c3-bbca71da87d0"
      },
      "source": [
        "from google.colab import drive\n",
        "drive.mount('/content/drive/')\n"
      ],
      "execution_count": 8,
      "outputs": [
        {
          "output_type": "stream",
          "text": [
            "Drive already mounted at /content/drive/; to attempt to forcibly remount, call drive.mount(\"/content/drive/\", force_remount=True).\n"
          ],
          "name": "stdout"
        }
      ]
    },
    {
      "cell_type": "markdown",
      "metadata": {
        "id": "zT_XqqqWIH7_"
      },
      "source": [
        "## Assignment 01 NLP\n",
        "# GROUP 2"
      ]
    },
    {
      "cell_type": "markdown",
      "metadata": {
        "id": "yUnHP4wHFc64"
      },
      "source": [
        "## 1. Look at Continuous bag of word and GloVe method\n"
      ]
    },
    {
      "cell_type": "markdown",
      "metadata": {
        "id": "-RYYp_crFg3d"
      },
      "source": [
        "## 2.   Compare and contrast GloVe vs skip-gram"
      ]
    },
    {
      "cell_type": "markdown",
      "metadata": {
        "id": "TkZSXqbBFn4X"
      },
      "source": [
        "## • Looking at Continuous bag of word and GloVe method"
      ]
    },
    {
      "cell_type": "markdown",
      "metadata": {
        "id": "5v_uC87NFw8R"
      },
      "source": [
        "###              • Continuous bag of word method"
      ]
    },
    {
      "cell_type": "markdown",
      "metadata": {
        "id": "p7EpOP-xFwXs"
      },
      "source": [
        "CBOW predicts the probability of a word to occur given the words surrounding it. We can consider a single word or a group of words. But for simplicity, we will take a single context word and try to predict a single target word.\n",
        "\n",
        "The English language contains almost 1.2 million words, making it impossible to include so many words in our example. So if we consider a small example in which we have only four words i.e. live, home, they and at. For simplicity, we will consider that the corpus contains only one sentence, that being, ‘They live at home’.\n",
        "\n",
        "First, we convert each word into a one-hot encoding form. Also, we’ll not consider all the words in the sentence but ll only take certain words that are in a window. For example for a window size equal to three, we only consider three words in a sentence. The middle word is to be predicted and the surrounding two words are fed into the neural network as context. The window is then slid and the process is repeated again.\n",
        "\n",
        "Finally, after training the network repeatedly by sliding the window as shown, we get weights which we use to get the embeddings"
      ]
    },
    {
      "cell_type": "markdown",
      "metadata": {
        "id": "XAcdqSkrF4ll"
      },
      "source": [
        "### •  GloVe method"
      ]
    },
    {
      "cell_type": "markdown",
      "metadata": {
        "id": "XikS39fIF4gR"
      },
      "source": [
        "GloVe (Global Vectors for Word Representation) is an alternate method to create word embeddings. It is based on matrix factorization techniques on the word-context matrix. A large matrix of co-occurrence information is constructed and you count each “word” (the rows), and how frequently we see this word in some “context” (the columns) in a large corpus. Usually, we scan our corpus in the following manner: for each term, we look for context terms within some area defined by a window-size before the term and a window-size after the term. Also, we give less weight for more distant words.\n",
        "\n",
        "The number of “contexts” is, of course, large, since it is essentially combinatorial in size. So then we factorize this matrix to yield a lower-dimensional matrix, where each row now yields a vector representation for each word. In general, this is done by minimizing a “reconstruction loss”. This loss tries to find the lower-dimensional representations which can explain most of the variance in the high-dimensional data."
      ]
    },
    {
      "cell_type": "markdown",
      "metadata": {
        "id": "69uaxcG-F4b9"
      },
      "source": [
        " ## • Comparison and contrast: GloVe vs skip-gram"
      ]
    },
    {
      "cell_type": "markdown",
      "metadata": {
        "id": "n_VZDlVTF4J8"
      },
      "source": [
        "#### Skip-gram:\n",
        "\n",
        "Advantages:\n",
        "\n",
        "    The idea is very intuitive, which transforms the unlabled raw corpus into labeled data \n",
        "    (by mapping the target word to its context word), and learns the representation \n",
        "    of words in a classification task.\n",
        "    The data can be fed into the model in an online way and needs little preprocessing, \n",
        "    thus requires little memory.\n",
        "    The mapping between the target word to its context word implicitly embeds the sub-linear relationship\n",
        "    into the vector space of words, so that relationships like “king:man as queen:woman” can be infered by word vectors.\n",
        "    It is simple for a freshman to understand the principle and do implementation.\n",
        "\n",
        "Disadvantages:\n",
        "\n",
        "    The sub-linear relationships are not explicitly defined. There is little theoretical support behind such characteristic.\n",
        "\n",
        "    The model could be very difficult to train if use the softmax function, since the number \n",
        "    of categories is too large (the size of vocabulary). Though approxination algorithms \n",
        "    like negative sampling (NEG) and hierarchical softmax (HS) are proposed to address \n",
        "    the issue, other problems happen. For example, the word vectors by NEG are not distributed\n",
        "    uniformally, they are located within a cone in the vector space hence the vector space is not sufficiently utilized."
      ]
    },
    {
      "cell_type": "markdown",
      "metadata": {
        "id": "dzhTOssrGJQG"
      },
      "source": [
        "### Glove:\n",
        "\n",
        "Advantages:\n",
        "\n",
        "    The goal of Glove is very straightforward, i.e., to enforce the word vectors to capture \n",
        "    sub-linear relationships in the vector space. Thus, it proves to perform better \n",
        "    than skip-gram in the word analogoy tasks.\n",
        "    Glove adds some more practical meaning into word vectors by considering the relationships\n",
        "    between word pair and word pair rather than word and word.\n",
        "    Glove gives \n",
        "    lower weight for highly frequent word pairs so as to prevent the meaningless \n",
        "    stop words like “the”, “an” will not dominate the training progress.\n",
        "\n",
        "Disadvantages:\n",
        "\n",
        "    The model is trained on the co-occurrence matrix of words, which takes a lot of memory for storage. \n",
        "    Especially, if you change the hyper-parameters related to the co-occurrence matrix, you have to reconstruct \n",
        "    the matrix again, which is very time-consuming."
      ]
    },
    {
      "cell_type": "markdown",
      "metadata": {
        "id": "4qFqpkAzGJNc"
      },
      "source": [
        "### Both skip-gram and Glove do not solve the problems like:\n",
        "\n",
        "    How to learn the representation for out-of-vocabulary words.\n",
        "    How to separate some opposite word pairs. For example, “good” and “bad” are usually located very close to each other \n",
        "    in the vector space, which may limit the performance of word vectors in NLP tasks like sentiment analysis."
      ]
    },
    {
      "cell_type": "markdown",
      "metadata": {
        "id": "rXHKNgH-GJKi"
      },
      "source": [
        "# 3 Extend the Wikipedia exercise"
      ]
    },
    {
      "cell_type": "markdown",
      "metadata": {
        "id": "UiYvUJD-I7Lo"
      },
      "source": [
        "## • Implement a window based SVD model and visualize some example relationships"
      ]
    },
    {
      "cell_type": "markdown",
      "metadata": {
        "id": "6t52gvakJUqI"
      },
      "source": [
        "## • Compare the performance of SVD based embedding to word2vec"
      ]
    },
    {
      "cell_type": "code",
      "metadata": {
        "colab": {
          "base_uri": "https://localhost:8080/"
        },
        "id": "ez_fo_TK_DTt",
        "outputId": "db666874-22a0-4b95-f6ff-4b014a780f3e"
      },
      "source": [
        "import nltk\n",
        "import re\n",
        "\n",
        "import pandas as pd\n",
        "import numpy as np\n",
        "import matplotlib.pyplot as plt\n",
        "from nltk.tokenize import sent_tokenize as sent\n",
        "from nltk.tokenize import RegexpTokenizer\n",
        "from sklearn.decomposition import TruncatedSVD,PCA\n",
        "\n",
        "\n",
        "from nltk.corpus import stopwords\n",
        "nltk.download('stopwords')\n",
        "from nltk.tokenize import word_tokenize\n",
        "nltk.download('punkt')\n",
        "\n",
        "from nltk import bigrams\n",
        "import itertools\n",
        "\n",
        "import bs4 as bs\n",
        "import urllib"
      ],
      "execution_count": 56,
      "outputs": [
        {
          "output_type": "stream",
          "text": [
            "[nltk_data] Downloading package stopwords to /root/nltk_data...\n",
            "[nltk_data]   Package stopwords is already up-to-date!\n",
            "[nltk_data] Downloading package punkt to /root/nltk_data...\n",
            "[nltk_data]   Package punkt is already up-to-date!\n"
          ],
          "name": "stdout"
        }
      ]
    },
    {
      "cell_type": "code",
      "metadata": {
        "id": "oh-qKwXgf_4z"
      },
      "source": [
        "# link to the wikipedia of the president Senegalvectorized_words\n",
        "raw_html = urllib.request.urlopen('https://en.wikipedia.org/wiki/Macky_Sall')  \n",
        "raw_html = raw_html.read()\n",
        "\n",
        "wiki_html = bs.BeautifulSoup(raw_html, 'lxml')\n",
        "article_paragraphs = wiki_html.find_all('p')\n",
        "article_text = ''\n",
        "for para in article_paragraphs:  \n",
        "    article_text += para.text\n"
      ],
      "execution_count": 57,
      "outputs": []
    },
    {
      "cell_type": "markdown",
      "metadata": {
        "id": "-uzqrGK9B1_X"
      },
      "source": [
        "## **Text Preprocessing**"
      ]
    },
    {
      "cell_type": "code",
      "metadata": {
        "colab": {
          "base_uri": "https://localhost:8080/"
        },
        "id": "Kj-OLYN8BOfJ",
        "outputId": "b567f0de-54aa-47e6-bd03-b88aa6fb1ac0"
      },
      "source": [
        "#remove punctuations\n",
        "pattern = r'[0-9([\\]%),\\\"\\-\\_–$;:\\']'\n",
        "new_string = (re.sub(pattern, '', article_text)).lower()\n",
        "\n",
        "print(new_string)"
      ],
      "execution_count": 58,
      "outputs": [
        {
          "output_type": "stream",
          "text": [
            "\n",
            "macky sall born  december  is a senegalese politician who has been president of senegal since april . he was reelected president in the first round voting in february  senegalese presidential election. under president abdoulaye wade sall was prime minister of senegal from july  to june  and president of the national assembly from june  to november . he was the mayor of fatick from  to  and held that post again from  to .\n",
            "sall was a longtime member of the senegalese democratic party pds. after coming into conflict with wade he was removed from his post as president of the national assembly in november  he consequently founded his own party named apr and joined the opposition. placing second in the first round of the  presidential election he won the backing of other opposition candidates and prevailed over wade in the second round of voting held on  march . he is the first president born after senegalese independence from france.\n",
            "sall was one of five children born to amadou abdoul sall who was a state worker and then a caretaker and coumba thimbo a peanut seller. he was raised in fatick and futa tooro as well as mboro from age .\n",
            "salls father was a member of the socialist party of senegal ps but at the high school in kaolack sall associated with the maoists at the encouragement of his brotherinlaw. during his studies at the university of dakar he was involved in the marxistleninist movement andjëf led by landing savané. he soon left andjëf since he did not share the ideas of the movement or savanés use a boycott strategy against the ps in the  election in which sall voted for the liberal abdoulaye wade as he did again in .\n",
            "sall was trained as a geological engineer at the institute of earth sciences ist of the university of dakar and then at the french institute of petroleum ifps national college of petrol and engines enspm in paris. he is a member of multiple national and international associations of geologists and geological engineers.\n",
            "he met his wife mariéme faye sall in  when she was a high school student in the city of diourbel.\n",
            "sall joined wades senegalese democratic party pds in the late s.\n",
            "he became secretarygeneral of the pds regional convention in fatick in  and served as the pds national secretary in charge of mines and industry. he was actively involved in the sopi campaign which brought wade to power in the  senegalese presidential election.\n",
            "he was special advisor for energy and mines to president abdoulaye wade from  april  to  may  as well as directorgeneral of the petroleum company of senegal société des pétroles du sénégal petrosen from  december  to  july . he became minister of mines energy and hydraulics on  may  replacing abdoulaye bathily who had been appointed vicepresident of the national assembly. sall was promoted to the rank of minister of state while retaining his portfolio on  november . he additionally became the mayor of fatick on  june .\n",
            "on  august  sall was moved from his position as minister of state for mines energy and hydraulics to that of minister of state for the interior and local communities while also becoming government spokesman.\n",
            "on  april  macky sall was appointed prime minister by president wade after wade dismissed his predecessor idrissa seck. on  april  sall became vicepresident of the pds steering committee. although sall was little known at the time of his appointment he made a strong impression in his maiden address on general policy.\n",
            "sall served as the director of wades reelection campaign for the february  presidential election in which wade was victorious obtaining a majority in the first round. after wade was sworn in sall submitted his resignation on  april and was immediately reappointed with the government unchanged. sall remained prime minister until  june  making him the longestserving of wades prime ministers. during his tenure he set in motion several presidential policies which had been neglected by his predecessor including the corniche de dakar motorway and the construction of the blaise diagne international airport.\n",
            "in the june  parliamentary election sall was elected to the national assembly as a candidate on the national list of the coalition. after the election wade appointed minister delegate for the budget cheikh hadjibou soumaré as prime minister on  june replacing sall who had resigned along with his government shortly beforehand then fall out of elections. sall said that he was proud of what he had accomplished as prime minister.\n",
            "sall was not elected as president of the national assembly one day later on  june  he was the only candidate and received  votes from the  deputies present. sall and wade came into conflict later in  when sall called wades son karim the president of the national agency of the organisation of the islamic conference oic for a hearing in the national assembly regarding construction sites in dakar for the oic summit planned to take place there in march . this was perceived as an attempt by sall to weaken karims position and possibly influence the eventual presidential succession in favor of himself provoking the enmity of wade and his loyalists within the pds. in november  the pds steering committee abolished salls position of deputy secretarygeneral which had been the second most powerful position in the party and it decided to submit a bill to the national assembly that would reduce the term of the president of the national assembly from five years to one year. following the death of mourides religious leader serigne saliou mbacké in late december  his successor serigne mouhamadou lamine bara mbacké asked wade to forgive sall wade then met with sall and the two were said to have made peace in early january .\n",
            "sall nevertheless remained at odds with the pds leadership in . in september  a pds deputy presented the bill to reduce the term of the president of the national assembly to one year and later in the month sall was called before the pds disciplinary committee although he did not appear. on this occasion sall was accused of divisive personal initiatives within the party he also allegedly committed acts aimed at undermining the image of the party and country referring in particular to salls visits to the senate of france and the united states democratic partys  convention. a statement released by salls political adviser condemned the move to discipline sall as an attempt at political liquidation.\n",
            "on  october  the national assembly voted to reduce the term of the president of the national assembly to one year this was approved by president wade on  october. despite salls determined efforts to maintain his position the national assembly voted to dismiss him as president of the national assembly on  november . there were  votes in favor of his removal and  against it. sall promptly announced that he was resigning from the pds this decision meant that he would lose his seat in the national assembly as well as his seat on faticks municipal council and his post as mayor of fatick. he also said that he would create a new party. mamadou seck was elected to replace sall as president of the national assembly on  november .\n",
            "sall founded his own party the alliance for the republicyaakaar apr on  december . the interior ministry accused sall of money laundering on  january  sall denied this and said that the accusation was politically motivated. in late february  it was decided not to prosecute sall due to lack of evidence.\n",
            "following the march  local election in fatick sall was reelected to his former post as mayor in april . he received  votes from the  municipal councillors present the sopi coalitions five councillors were not present for the vote. in the same local elections the apr was also successful in the cite of gossas twelve districts in the north of the country and three in the south.\n",
            "intending to stand in the  presidential elections sall travelled through senegal and met with members of the senegalese overseas community. he employed jeanpierre pierrebloch fr a former member of the french national assembly who had previously been a close associate of wade as an advisor. in  a poll indicated that he was the frontrunner for the presidency in dakar and its environs.\n",
            "in the  presidential elections sall ran as the candidate of the macky  coalition with the slogan the path of real development yoonu yookuté in wolof. he campaigned across the country without cutting off ties with the  juin m opposition movement which protested against wade in dakar calling for him to be barred from running for a third term.\n",
            "the initial result of  february  election saw sall obtain . of the vote against wades . forcing a runoff. in the runoff sall convinced all the eliminated candidates and disqualified candidate youssou ndour to support him forming a coalition named benno bokk yakkar wolof for united in the same hope. he achieved this by promising to return to fiveyear presidential terms from the previous sevenyear term that wade controversially restored he also said he would ensure that no leader could serve for more than two terms. the runoff took place on  march  and wade phoned sall at  gmt to concede the race with congratulations before the constitutional council fr made the official proclamation that sall had won with . of the vote.\n",
            "sall was inaugurated as the fourth president of senegal on  april at the king fahd palace hotel. the next day he appointed technocrat and banker abdoul mbaye as his prime minister who became the head of a government limited to  ministers and announced his intention to dissolve the national assembly in order to hold legislative elections on  july.\n",
            "two controversies marked salls first days in office his visit to his french counterpart nicolas sarkozy days before the latters defeat in the  french presidential elections and the publication of his net worth an astonishing . billion cfa francs largely acquired during his tenure as wades prime minister.\n",
            "in the leadup to the legislative elections in july for which he managed to preserve the benno bokk yakaar coalition intact sall carried out many symbolic gestures. in accordance with his promise to reduce state spending he curtailed some ministerial perks announced an audit of his predecessors administration and cancelled  projects and agencies which were judged unnecessary. he ended several contracts within the presidential palace and limited the salaries of the directors of agencies but also increased the number of ministercounsellors. he reestablished the court for the repression of illegal enrichment and announced the creation of a national anticorruption office ofnac and a national commission for the restitution of property and recovery of wrongly acquired possessions as well as annulling some of the final decrees and contracts signed by wade. to reduce the cost of living the government of abdoul mbaye lowered the price of oil rice and sugar. retirement pensions were revalued farmers received emergency subsidies and the  permits issued to foreign deep sea trawlers by the preceding government were annulled. in advance of the new school year national conferences on education were scheduled.\n",
            "in the foreign policy sphere sall charged foreign minister alioune badara cissé fr with renewing senegals traditional links with morocco mauritania and the gambia and restoring senegals diplomatic role in africa. two difficult legal cases challenged his commitment to avoid interfering with the judiciary the socialist barthélémy dias was charged with the murder of a pds member and the marabout béthio thioune fr an old supporter of wade was accused of being involved in the deaths of two of his followers.\n",
            "in february  sall secured . billion for his economic development plan dubbed emergent senegal designed to transform senegal into an emergent economy by  through investments in agriculture infrastructure and tourism. salls government also moved toward the establishment of a new universal healthcare system. while the world trade organisation called salls plans ambitious popular dissatisfaction with the slow pace of progress was reported.\n",
            "in september  sall dismissed mbaye and named the minister of justice aminata touré to the position of prime minister. on  july  she was dismissed as prime minister by parliament after she failed to win a council seat in dakar in the local elections and macky sall appointed one of his advisors mohammed dionne as prime minister.\n",
            "since his election in  peace in the casamance region has been a top priority for sall. the movement of democratic forces of casamance mfdc have been pursuing the cause of separatism for casamance a small region in the south of the country dominated by christians from the minority jola ethnic group since the s. on  may  one of the leaders of the mfdc salif sadio sued for peace and declared a unilateral ceasefire after secret talks held at the vatican between his forces and sall.\n",
            "in january  sall supported proposed constitutional reforms that would limit any president to two consecutive terms in office and reduce the term of office from seven years to five in accordance with his promise at the  election. the constitutional council refused to allow sall to shorten his own term of office but allowed the other changes to be put to a referendum to the dismay of some of salls former supporters. protests and violent clashes preceded the referendum which passed on  march  with  in favour and turnout slightly in excess of .\n",
            "in the  senegalese presidential election sall won reelection with  of the vote.\n",
            "in june  sall said he was selfisolating after he was exposed to someone with covid.\n",
            "president sall was awarded the  sunhak peace prize for successfully shortening the presidential term from seven to five years and reviving the economy through transparent policies thereby spreading mature democracy to neighboring countries on the african continent where longterm dictatorship and poverty still abound.\n",
            "\n"
          ],
          "name": "stdout"
        }
      ]
    },
    {
      "cell_type": "code",
      "metadata": {
        "colab": {
          "base_uri": "https://localhost:8080/"
        },
        "id": "Zy1IwUW-jjN-",
        "outputId": "8fd37bdb-4c9d-401d-b6f1-b57626963337"
      },
      "source": [
        "len(article_text)"
      ],
      "execution_count": 59,
      "outputs": [
        {
          "output_type": "execute_result",
          "data": {
            "text/plain": [
              "14823"
            ]
          },
          "metadata": {
            "tags": []
          },
          "execution_count": 59
        }
      ]
    },
    {
      "cell_type": "code",
      "metadata": {
        "colab": {
          "base_uri": "https://localhost:8080/"
        },
        "id": "5xY4LQNLPGyr",
        "outputId": "763ecebf-a693-43ed-ee62-2f851467bbc3"
      },
      "source": [
        "#remove stopwords\n",
        "text_tokens = word_tokenize(new_string)\n",
        "\n",
        "tokens_without_sw = (\" \").join([word for word in text_tokens if not word in stopwords.words()])\n",
        "\n",
        "print(tokens_without_sw)"
      ],
      "execution_count": 60,
      "outputs": [
        {
          "output_type": "stream",
          "text": [
            "macky sall born december senegalese politician president senegal since april . reelected president first round voting february senegalese presidential election . president abdoulaye wade sall prime minister senegal july june president national assembly june november . mayor fatick held post . sall longtime member senegalese democratic party pds . coming conflict wade removed post president national assembly november consequently founded party named apr joined opposition . placing second first round presidential election backing opposition candidates prevailed wade second round voting held march . first president born senegalese independence france . sall five children born amadou abdoul sall state worker caretaker coumba thimbo peanut seller . raised fatick futa tooro well mboro age . salls father member socialist party senegal ps high school kaolack sall associated maoists encouragement brotherinlaw . studies university dakar involved marxistleninist movement andjëf led landing savané . soon left andjëf since share ideas movement savanés use boycott strategy ps election sall voted liberal abdoulaye wade . sall trained geological engineer institute earth sciences university dakar french institute petroleum ifps national college petrol engines enspm paris . member multiple national international associations geologists geological engineers . wife mariéme faye sall high school student city diourbel . sall joined wades senegalese democratic party pds late s. became secretarygeneral pds regional convention fatick served pds national secretary charge mines industry . actively involved sopi campaign brought wade power senegalese presidential election . special advisor energy mines president abdoulaye wade april may well directorgeneral petroleum company senegal société pétroles sénégal petrosen december july . became minister mines energy hydraulics may replacing abdoulaye bathily appointed vicepresident national assembly . sall promoted rank minister state retaining portfolio november . additionally became mayor fatick june . august sall moved position minister state mines energy hydraulics minister state interior local communities becoming government spokesman . april macky sall appointed prime minister president wade wade dismissed predecessor idrissa seck . april sall became vicepresident pds steering committee . although sall little known time appointment made strong impression maiden address general policy . sall served director wades reelection campaign february presidential election wade victorious obtaining majority first round . wade sworn sall submitted resignation april immediately reappointed government unchanged . sall remained prime minister june making longestserving wades prime ministers . tenure set motion several presidential policies neglected predecessor including corniche dakar motorway construction blaise diagne international airport . june parliamentary election sall elected national assembly candidate national list coalition . election wade appointed minister delegate budget cheikh hadjibou soumaré prime minister june replacing sall resigned along government shortly beforehand fall elections . sall said proud accomplished prime minister . sall elected president national assembly day later june candidate received votes deputies present . sall wade came conflict later sall called wades karim president national agency organisation islamic conference oic hearing national assembly regarding construction sites dakar oic summit planned place march . perceived attempt sall weaken karims position possibly influence eventual presidential succession favor provoking enmity wade loyalists within pds . november pds steering committee abolished salls position deputy secretarygeneral second powerful position party decided submit bill national assembly would reduce term president national assembly five years year . following death mourides religious leader serigne saliou mbacké late december successor serigne mouhamadou lamine bara mbacké asked wade forgive sall wade sall two said made peace early january . sall nevertheless remained odds pds leadership . september pds deputy presented bill reduce term president national assembly year later month sall called pds disciplinary committee although appear . occasion sall accused divisive personal initiatives within party allegedly committed acts aimed undermining image party country referring particular salls visits senate france united states democratic partys convention . statement released salls political adviser condemned move discipline sall attempt political liquidation . october national assembly voted reduce term president national assembly year approved president wade october . despite salls determined efforts maintain position national assembly voted dismiss president national assembly november . votes favor removal . sall promptly announced resigning pds decision meant would lose seat national assembly well seat faticks municipal council post mayor fatick . said would create new party . mamadou seck elected replace sall president national assembly november . sall founded party alliance republicyaakaar apr december . interior ministry accused sall money laundering january sall denied said accusation politically motivated . late february decided prosecute sall due lack evidence . following march local election fatick sall reelected former post mayor april . received votes municipal councillors present sopi coalitions five councillors present vote . local elections apr successful gossas twelve districts north country three south . intending stand presidential elections sall travelled senegal members senegalese overseas community . employed jeanpierre pierrebloch fr former member french national assembly previously close associate wade advisor . poll indicated frontrunner presidency dakar environs . presidential elections sall ran candidate macky coalition slogan path real development yoonu yookuté wolof . campaigned across country without cutting ties juin opposition movement protested wade dakar calling barred running third term . initial result february election saw sall obtain . vote wades . forcing runoff . runoff sall convinced eliminated candidates disqualified candidate youssou ndour support forming coalition named benno bokk yakkar wolof united hope . achieved promising return fiveyear presidential terms previous sevenyear term wade controversially restored said would ensure leader could serve two terms . runoff took place march wade phoned sall gmt concede race congratulations constitutional council fr made official proclamation sall . vote . sall inaugurated fourth president senegal april king fahd palace . next day appointed technocrat banker abdoul mbaye prime minister became head government limited ministers announced intention dissolve national assembly order hold legislative elections july . two controversies marked salls first days office visit french counterpart nicolas sarkozy days latters defeat french presidential elections publication net worth astonishing . billion cfa francs largely acquired tenure wades prime minister . leadup legislative elections july managed preserve benno bokk yakaar coalition intact sall carried many symbolic gestures . accordance promise reduce state spending curtailed ministerial perks announced audit predecessors administration cancelled projects agencies judged unnecessary . ended several contracts within presidential palace limited salaries directors agencies increased number ministercounsellors . reestablished court repression illegal enrichment announced creation national anticorruption office ofnac national commission restitution property recovery wrongly acquired possessions well annulling final decrees contracts signed wade . reduce cost living government abdoul mbaye lowered price oil rice sugar . retirement pensions revalued farmers received emergency subsidies permits issued foreign deep trawlers preceding government annulled . advance new school year national conferences education scheduled . foreign policy sphere sall charged foreign minister alioune badara cissé fr renewing senegals traditional links morocco mauritania gambia restoring senegals diplomatic role africa . two difficult legal cases challenged commitment avoid interfering judiciary socialist barthélémy dias charged murder pds member marabout béthio thioune fr old supporter wade accused involved deaths two followers . february sall secured . billion economic development plan dubbed emergent senegal designed transform senegal emergent economy investments agriculture infrastructure tourism . salls government moved toward establishment new universal healthcare system . world trade organisation called salls plans ambitious popular dissatisfaction slow pace progress reported . september sall dismissed mbaye named minister justice aminata touré position prime minister . july dismissed prime minister parliament failed win council seat dakar local elections macky sall appointed advisors mohammed dionne prime minister . since election peace casamance region top priority sall . movement democratic forces casamance mfdc pursuing cause separatism casamance small region south country dominated christians minority jola ethnic group since s. may leaders mfdc salif sadio sued peace declared unilateral ceasefire secret talks held vatican forces sall . january sall supported proposed constitutional reforms would limit president two consecutive terms office reduce term office seven years five accordance promise election . constitutional council refused allow sall shorten term office allowed changes put referendum dismay salls former supporters . protests violent clashes preceded referendum passed march favour turnout slightly excess . senegalese presidential election sall reelection vote . june sall said selfisolating exposed someone covid . president sall awarded sunhak peace prize successfully shortening presidential term seven five years reviving economy transparent policies thereby spreading mature democracy neighboring countries african continent longterm dictatorship poverty still abound .\n"
          ],
          "name": "stdout"
        }
      ]
    },
    {
      "cell_type": "code",
      "metadata": {
        "colab": {
          "base_uri": "https://localhost:8080/"
        },
        "id": "Coj3VdvhiDUa",
        "outputId": "94a585ca-9c82-4c8b-ab40-60019cae75cf"
      },
      "source": [
        "len(tokens_without_sw)"
      ],
      "execution_count": 61,
      "outputs": [
        {
          "output_type": "execute_result",
          "data": {
            "text/plain": [
              "10147"
            ]
          },
          "metadata": {
            "tags": []
          },
          "execution_count": 61
        }
      ]
    },
    {
      "cell_type": "code",
      "metadata": {
        "colab": {
          "base_uri": "https://localhost:8080/"
        },
        "id": "qzgdovYlPG1l",
        "outputId": "1b054673-d4cf-45aa-afd2-4b58a251b5a9"
      },
      "source": [
        "#tokenize\n",
        "tokenizer = RegexpTokenizer(r'\\w+')\n",
        "tokens=tokenizer.tokenize(tokens_without_sw)\n",
        "print(tokens)"
      ],
      "execution_count": 62,
      "outputs": [
        {
          "output_type": "stream",
          "text": [
            "['macky', 'sall', 'born', 'december', 'senegalese', 'politician', 'president', 'senegal', 'since', 'april', 'reelected', 'president', 'first', 'round', 'voting', 'february', 'senegalese', 'presidential', 'election', 'president', 'abdoulaye', 'wade', 'sall', 'prime', 'minister', 'senegal', 'july', 'june', 'president', 'national', 'assembly', 'june', 'november', 'mayor', 'fatick', 'held', 'post', 'sall', 'longtime', 'member', 'senegalese', 'democratic', 'party', 'pds', 'coming', 'conflict', 'wade', 'removed', 'post', 'president', 'national', 'assembly', 'november', 'consequently', 'founded', 'party', 'named', 'apr', 'joined', 'opposition', 'placing', 'second', 'first', 'round', 'presidential', 'election', 'backing', 'opposition', 'candidates', 'prevailed', 'wade', 'second', 'round', 'voting', 'held', 'march', 'first', 'president', 'born', 'senegalese', 'independence', 'france', 'sall', 'five', 'children', 'born', 'amadou', 'abdoul', 'sall', 'state', 'worker', 'caretaker', 'coumba', 'thimbo', 'peanut', 'seller', 'raised', 'fatick', 'futa', 'tooro', 'well', 'mboro', 'age', 'salls', 'father', 'member', 'socialist', 'party', 'senegal', 'ps', 'high', 'school', 'kaolack', 'sall', 'associated', 'maoists', 'encouragement', 'brotherinlaw', 'studies', 'university', 'dakar', 'involved', 'marxistleninist', 'movement', 'andjëf', 'led', 'landing', 'savané', 'soon', 'left', 'andjëf', 'since', 'share', 'ideas', 'movement', 'savanés', 'use', 'boycott', 'strategy', 'ps', 'election', 'sall', 'voted', 'liberal', 'abdoulaye', 'wade', 'sall', 'trained', 'geological', 'engineer', 'institute', 'earth', 'sciences', 'university', 'dakar', 'french', 'institute', 'petroleum', 'ifps', 'national', 'college', 'petrol', 'engines', 'enspm', 'paris', 'member', 'multiple', 'national', 'international', 'associations', 'geologists', 'geological', 'engineers', 'wife', 'mariéme', 'faye', 'sall', 'high', 'school', 'student', 'city', 'diourbel', 'sall', 'joined', 'wades', 'senegalese', 'democratic', 'party', 'pds', 'late', 's', 'became', 'secretarygeneral', 'pds', 'regional', 'convention', 'fatick', 'served', 'pds', 'national', 'secretary', 'charge', 'mines', 'industry', 'actively', 'involved', 'sopi', 'campaign', 'brought', 'wade', 'power', 'senegalese', 'presidential', 'election', 'special', 'advisor', 'energy', 'mines', 'president', 'abdoulaye', 'wade', 'april', 'may', 'well', 'directorgeneral', 'petroleum', 'company', 'senegal', 'société', 'pétroles', 'sénégal', 'petrosen', 'december', 'july', 'became', 'minister', 'mines', 'energy', 'hydraulics', 'may', 'replacing', 'abdoulaye', 'bathily', 'appointed', 'vicepresident', 'national', 'assembly', 'sall', 'promoted', 'rank', 'minister', 'state', 'retaining', 'portfolio', 'november', 'additionally', 'became', 'mayor', 'fatick', 'june', 'august', 'sall', 'moved', 'position', 'minister', 'state', 'mines', 'energy', 'hydraulics', 'minister', 'state', 'interior', 'local', 'communities', 'becoming', 'government', 'spokesman', 'april', 'macky', 'sall', 'appointed', 'prime', 'minister', 'president', 'wade', 'wade', 'dismissed', 'predecessor', 'idrissa', 'seck', 'april', 'sall', 'became', 'vicepresident', 'pds', 'steering', 'committee', 'although', 'sall', 'little', 'known', 'time', 'appointment', 'made', 'strong', 'impression', 'maiden', 'address', 'general', 'policy', 'sall', 'served', 'director', 'wades', 'reelection', 'campaign', 'february', 'presidential', 'election', 'wade', 'victorious', 'obtaining', 'majority', 'first', 'round', 'wade', 'sworn', 'sall', 'submitted', 'resignation', 'april', 'immediately', 'reappointed', 'government', 'unchanged', 'sall', 'remained', 'prime', 'minister', 'june', 'making', 'longestserving', 'wades', 'prime', 'ministers', 'tenure', 'set', 'motion', 'several', 'presidential', 'policies', 'neglected', 'predecessor', 'including', 'corniche', 'dakar', 'motorway', 'construction', 'blaise', 'diagne', 'international', 'airport', 'june', 'parliamentary', 'election', 'sall', 'elected', 'national', 'assembly', 'candidate', 'national', 'list', 'coalition', 'election', 'wade', 'appointed', 'minister', 'delegate', 'budget', 'cheikh', 'hadjibou', 'soumaré', 'prime', 'minister', 'june', 'replacing', 'sall', 'resigned', 'along', 'government', 'shortly', 'beforehand', 'fall', 'elections', 'sall', 'said', 'proud', 'accomplished', 'prime', 'minister', 'sall', 'elected', 'president', 'national', 'assembly', 'day', 'later', 'june', 'candidate', 'received', 'votes', 'deputies', 'present', 'sall', 'wade', 'came', 'conflict', 'later', 'sall', 'called', 'wades', 'karim', 'president', 'national', 'agency', 'organisation', 'islamic', 'conference', 'oic', 'hearing', 'national', 'assembly', 'regarding', 'construction', 'sites', 'dakar', 'oic', 'summit', 'planned', 'place', 'march', 'perceived', 'attempt', 'sall', 'weaken', 'karims', 'position', 'possibly', 'influence', 'eventual', 'presidential', 'succession', 'favor', 'provoking', 'enmity', 'wade', 'loyalists', 'within', 'pds', 'november', 'pds', 'steering', 'committee', 'abolished', 'salls', 'position', 'deputy', 'secretarygeneral', 'second', 'powerful', 'position', 'party', 'decided', 'submit', 'bill', 'national', 'assembly', 'would', 'reduce', 'term', 'president', 'national', 'assembly', 'five', 'years', 'year', 'following', 'death', 'mourides', 'religious', 'leader', 'serigne', 'saliou', 'mbacké', 'late', 'december', 'successor', 'serigne', 'mouhamadou', 'lamine', 'bara', 'mbacké', 'asked', 'wade', 'forgive', 'sall', 'wade', 'sall', 'two', 'said', 'made', 'peace', 'early', 'january', 'sall', 'nevertheless', 'remained', 'odds', 'pds', 'leadership', 'september', 'pds', 'deputy', 'presented', 'bill', 'reduce', 'term', 'president', 'national', 'assembly', 'year', 'later', 'month', 'sall', 'called', 'pds', 'disciplinary', 'committee', 'although', 'appear', 'occasion', 'sall', 'accused', 'divisive', 'personal', 'initiatives', 'within', 'party', 'allegedly', 'committed', 'acts', 'aimed', 'undermining', 'image', 'party', 'country', 'referring', 'particular', 'salls', 'visits', 'senate', 'france', 'united', 'states', 'democratic', 'partys', 'convention', 'statement', 'released', 'salls', 'political', 'adviser', 'condemned', 'move', 'discipline', 'sall', 'attempt', 'political', 'liquidation', 'october', 'national', 'assembly', 'voted', 'reduce', 'term', 'president', 'national', 'assembly', 'year', 'approved', 'president', 'wade', 'october', 'despite', 'salls', 'determined', 'efforts', 'maintain', 'position', 'national', 'assembly', 'voted', 'dismiss', 'president', 'national', 'assembly', 'november', 'votes', 'favor', 'removal', 'sall', 'promptly', 'announced', 'resigning', 'pds', 'decision', 'meant', 'would', 'lose', 'seat', 'national', 'assembly', 'well', 'seat', 'faticks', 'municipal', 'council', 'post', 'mayor', 'fatick', 'said', 'would', 'create', 'new', 'party', 'mamadou', 'seck', 'elected', 'replace', 'sall', 'president', 'national', 'assembly', 'november', 'sall', 'founded', 'party', 'alliance', 'republicyaakaar', 'apr', 'december', 'interior', 'ministry', 'accused', 'sall', 'money', 'laundering', 'january', 'sall', 'denied', 'said', 'accusation', 'politically', 'motivated', 'late', 'february', 'decided', 'prosecute', 'sall', 'due', 'lack', 'evidence', 'following', 'march', 'local', 'election', 'fatick', 'sall', 'reelected', 'former', 'post', 'mayor', 'april', 'received', 'votes', 'municipal', 'councillors', 'present', 'sopi', 'coalitions', 'five', 'councillors', 'present', 'vote', 'local', 'elections', 'apr', 'successful', 'gossas', 'twelve', 'districts', 'north', 'country', 'three', 'south', 'intending', 'stand', 'presidential', 'elections', 'sall', 'travelled', 'senegal', 'members', 'senegalese', 'overseas', 'community', 'employed', 'jeanpierre', 'pierrebloch', 'fr', 'former', 'member', 'french', 'national', 'assembly', 'previously', 'close', 'associate', 'wade', 'advisor', 'poll', 'indicated', 'frontrunner', 'presidency', 'dakar', 'environs', 'presidential', 'elections', 'sall', 'ran', 'candidate', 'macky', 'coalition', 'slogan', 'path', 'real', 'development', 'yoonu', 'yookuté', 'wolof', 'campaigned', 'across', 'country', 'without', 'cutting', 'ties', 'juin', 'opposition', 'movement', 'protested', 'wade', 'dakar', 'calling', 'barred', 'running', 'third', 'term', 'initial', 'result', 'february', 'election', 'saw', 'sall', 'obtain', 'vote', 'wades', 'forcing', 'runoff', 'runoff', 'sall', 'convinced', 'eliminated', 'candidates', 'disqualified', 'candidate', 'youssou', 'ndour', 'support', 'forming', 'coalition', 'named', 'benno', 'bokk', 'yakkar', 'wolof', 'united', 'hope', 'achieved', 'promising', 'return', 'fiveyear', 'presidential', 'terms', 'previous', 'sevenyear', 'term', 'wade', 'controversially', 'restored', 'said', 'would', 'ensure', 'leader', 'could', 'serve', 'two', 'terms', 'runoff', 'took', 'place', 'march', 'wade', 'phoned', 'sall', 'gmt', 'concede', 'race', 'congratulations', 'constitutional', 'council', 'fr', 'made', 'official', 'proclamation', 'sall', 'vote', 'sall', 'inaugurated', 'fourth', 'president', 'senegal', 'april', 'king', 'fahd', 'palace', 'next', 'day', 'appointed', 'technocrat', 'banker', 'abdoul', 'mbaye', 'prime', 'minister', 'became', 'head', 'government', 'limited', 'ministers', 'announced', 'intention', 'dissolve', 'national', 'assembly', 'order', 'hold', 'legislative', 'elections', 'july', 'two', 'controversies', 'marked', 'salls', 'first', 'days', 'office', 'visit', 'french', 'counterpart', 'nicolas', 'sarkozy', 'days', 'latters', 'defeat', 'french', 'presidential', 'elections', 'publication', 'net', 'worth', 'astonishing', 'billion', 'cfa', 'francs', 'largely', 'acquired', 'tenure', 'wades', 'prime', 'minister', 'leadup', 'legislative', 'elections', 'july', 'managed', 'preserve', 'benno', 'bokk', 'yakaar', 'coalition', 'intact', 'sall', 'carried', 'many', 'symbolic', 'gestures', 'accordance', 'promise', 'reduce', 'state', 'spending', 'curtailed', 'ministerial', 'perks', 'announced', 'audit', 'predecessors', 'administration', 'cancelled', 'projects', 'agencies', 'judged', 'unnecessary', 'ended', 'several', 'contracts', 'within', 'presidential', 'palace', 'limited', 'salaries', 'directors', 'agencies', 'increased', 'number', 'ministercounsellors', 'reestablished', 'court', 'repression', 'illegal', 'enrichment', 'announced', 'creation', 'national', 'anticorruption', 'office', 'ofnac', 'national', 'commission', 'restitution', 'property', 'recovery', 'wrongly', 'acquired', 'possessions', 'well', 'annulling', 'final', 'decrees', 'contracts', 'signed', 'wade', 'reduce', 'cost', 'living', 'government', 'abdoul', 'mbaye', 'lowered', 'price', 'oil', 'rice', 'sugar', 'retirement', 'pensions', 'revalued', 'farmers', 'received', 'emergency', 'subsidies', 'permits', 'issued', 'foreign', 'deep', 'trawlers', 'preceding', 'government', 'annulled', 'advance', 'new', 'school', 'year', 'national', 'conferences', 'education', 'scheduled', 'foreign', 'policy', 'sphere', 'sall', 'charged', 'foreign', 'minister', 'alioune', 'badara', 'cissé', 'fr', 'renewing', 'senegals', 'traditional', 'links', 'morocco', 'mauritania', 'gambia', 'restoring', 'senegals', 'diplomatic', 'role', 'africa', 'two', 'difficult', 'legal', 'cases', 'challenged', 'commitment', 'avoid', 'interfering', 'judiciary', 'socialist', 'barthélémy', 'dias', 'charged', 'murder', 'pds', 'member', 'marabout', 'béthio', 'thioune', 'fr', 'old', 'supporter', 'wade', 'accused', 'involved', 'deaths', 'two', 'followers', 'february', 'sall', 'secured', 'billion', 'economic', 'development', 'plan', 'dubbed', 'emergent', 'senegal', 'designed', 'transform', 'senegal', 'emergent', 'economy', 'investments', 'agriculture', 'infrastructure', 'tourism', 'salls', 'government', 'moved', 'toward', 'establishment', 'new', 'universal', 'healthcare', 'system', 'world', 'trade', 'organisation', 'called', 'salls', 'plans', 'ambitious', 'popular', 'dissatisfaction', 'slow', 'pace', 'progress', 'reported', 'september', 'sall', 'dismissed', 'mbaye', 'named', 'minister', 'justice', 'aminata', 'touré', 'position', 'prime', 'minister', 'july', 'dismissed', 'prime', 'minister', 'parliament', 'failed', 'win', 'council', 'seat', 'dakar', 'local', 'elections', 'macky', 'sall', 'appointed', 'advisors', 'mohammed', 'dionne', 'prime', 'minister', 'since', 'election', 'peace', 'casamance', 'region', 'top', 'priority', 'sall', 'movement', 'democratic', 'forces', 'casamance', 'mfdc', 'pursuing', 'cause', 'separatism', 'casamance', 'small', 'region', 'south', 'country', 'dominated', 'christians', 'minority', 'jola', 'ethnic', 'group', 'since', 's', 'may', 'leaders', 'mfdc', 'salif', 'sadio', 'sued', 'peace', 'declared', 'unilateral', 'ceasefire', 'secret', 'talks', 'held', 'vatican', 'forces', 'sall', 'january', 'sall', 'supported', 'proposed', 'constitutional', 'reforms', 'would', 'limit', 'president', 'two', 'consecutive', 'terms', 'office', 'reduce', 'term', 'office', 'seven', 'years', 'five', 'accordance', 'promise', 'election', 'constitutional', 'council', 'refused', 'allow', 'sall', 'shorten', 'term', 'office', 'allowed', 'changes', 'put', 'referendum', 'dismay', 'salls', 'former', 'supporters', 'protests', 'violent', 'clashes', 'preceded', 'referendum', 'passed', 'march', 'favour', 'turnout', 'slightly', 'excess', 'senegalese', 'presidential', 'election', 'sall', 'reelection', 'vote', 'june', 'sall', 'said', 'selfisolating', 'exposed', 'someone', 'covid', 'president', 'sall', 'awarded', 'sunhak', 'peace', 'prize', 'successfully', 'shortening', 'presidential', 'term', 'seven', 'five', 'years', 'reviving', 'economy', 'transparent', 'policies', 'thereby', 'spreading', 'mature', 'democracy', 'neighboring', 'countries', 'african', 'continent', 'longterm', 'dictatorship', 'poverty', 'still', 'abound']\n"
          ],
          "name": "stdout"
        }
      ]
    },
    {
      "cell_type": "code",
      "metadata": {
        "colab": {
          "base_uri": "https://localhost:8080/"
        },
        "id": "FGFib2mgchEM",
        "outputId": "ca085e88-69ad-4f06-b83d-5f4d16ede119"
      },
      "source": [
        "len(tokens),len(set(tokens))"
      ],
      "execution_count": 63,
      "outputs": [
        {
          "output_type": "execute_result",
          "data": {
            "text/plain": [
              "(1267, 705)"
            ]
          },
          "metadata": {
            "tags": []
          },
          "execution_count": 63
        }
      ]
    },
    {
      "cell_type": "code",
      "metadata": {
        "colab": {
          "base_uri": "https://localhost:8080/"
        },
        "id": "dfHOACNY7Wav",
        "outputId": "21590963-b555-4f6f-9b22-1a6d190f4dd5"
      },
      "source": [
        "data=tokens[:150]  # We take the 150 first words to plot them \n",
        "data"
      ],
      "execution_count": 86,
      "outputs": [
        {
          "output_type": "execute_result",
          "data": {
            "text/plain": [
              "['macky',\n",
              " 'sall',\n",
              " 'born',\n",
              " 'december',\n",
              " 'senegalese',\n",
              " 'politician',\n",
              " 'president',\n",
              " 'senegal',\n",
              " 'since',\n",
              " 'april',\n",
              " 'reelected',\n",
              " 'president',\n",
              " 'first',\n",
              " 'round',\n",
              " 'voting',\n",
              " 'february',\n",
              " 'senegalese',\n",
              " 'presidential',\n",
              " 'election',\n",
              " 'president',\n",
              " 'abdoulaye',\n",
              " 'wade',\n",
              " 'sall',\n",
              " 'prime',\n",
              " 'minister',\n",
              " 'senegal',\n",
              " 'july',\n",
              " 'june',\n",
              " 'president',\n",
              " 'national',\n",
              " 'assembly',\n",
              " 'june',\n",
              " 'november',\n",
              " 'mayor',\n",
              " 'fatick',\n",
              " 'held',\n",
              " 'post',\n",
              " 'sall',\n",
              " 'longtime',\n",
              " 'member',\n",
              " 'senegalese',\n",
              " 'democratic',\n",
              " 'party',\n",
              " 'pds',\n",
              " 'coming',\n",
              " 'conflict',\n",
              " 'wade',\n",
              " 'removed',\n",
              " 'post',\n",
              " 'president',\n",
              " 'national',\n",
              " 'assembly',\n",
              " 'november',\n",
              " 'consequently',\n",
              " 'founded',\n",
              " 'party',\n",
              " 'named',\n",
              " 'apr',\n",
              " 'joined',\n",
              " 'opposition',\n",
              " 'placing',\n",
              " 'second',\n",
              " 'first',\n",
              " 'round',\n",
              " 'presidential',\n",
              " 'election',\n",
              " 'backing',\n",
              " 'opposition',\n",
              " 'candidates',\n",
              " 'prevailed',\n",
              " 'wade',\n",
              " 'second',\n",
              " 'round',\n",
              " 'voting',\n",
              " 'held',\n",
              " 'march',\n",
              " 'first',\n",
              " 'president',\n",
              " 'born',\n",
              " 'senegalese',\n",
              " 'independence',\n",
              " 'france',\n",
              " 'sall',\n",
              " 'five',\n",
              " 'children',\n",
              " 'born',\n",
              " 'amadou',\n",
              " 'abdoul',\n",
              " 'sall',\n",
              " 'state',\n",
              " 'worker',\n",
              " 'caretaker',\n",
              " 'coumba',\n",
              " 'thimbo',\n",
              " 'peanut',\n",
              " 'seller',\n",
              " 'raised',\n",
              " 'fatick',\n",
              " 'futa',\n",
              " 'tooro',\n",
              " 'well',\n",
              " 'mboro',\n",
              " 'age',\n",
              " 'salls',\n",
              " 'father',\n",
              " 'member',\n",
              " 'socialist',\n",
              " 'party',\n",
              " 'senegal',\n",
              " 'ps',\n",
              " 'high',\n",
              " 'school',\n",
              " 'kaolack',\n",
              " 'sall',\n",
              " 'associated',\n",
              " 'maoists',\n",
              " 'encouragement',\n",
              " 'brotherinlaw',\n",
              " 'studies',\n",
              " 'university',\n",
              " 'dakar',\n",
              " 'involved',\n",
              " 'marxistleninist',\n",
              " 'movement',\n",
              " 'andjëf',\n",
              " 'led',\n",
              " 'landing',\n",
              " 'savané',\n",
              " 'soon',\n",
              " 'left',\n",
              " 'andjëf',\n",
              " 'since',\n",
              " 'share',\n",
              " 'ideas',\n",
              " 'movement',\n",
              " 'savanés',\n",
              " 'use',\n",
              " 'boycott',\n",
              " 'strategy',\n",
              " 'ps',\n",
              " 'election',\n",
              " 'sall',\n",
              " 'voted',\n",
              " 'liberal',\n",
              " 'abdoulaye',\n",
              " 'wade',\n",
              " 'sall',\n",
              " 'trained',\n",
              " 'geological',\n",
              " 'engineer']"
            ]
          },
          "metadata": {
            "tags": []
          },
          "execution_count": 86
        }
      ]
    },
    {
      "cell_type": "code",
      "metadata": {
        "colab": {
          "base_uri": "https://localhost:8080/"
        },
        "id": "ACatGJgoj3iQ",
        "outputId": "3adb2852-75f2-4942-94ce-579a182cc25c"
      },
      "source": [
        "vocabulary=set(data)\n",
        "print(vocabulary)"
      ],
      "execution_count": 87,
      "outputs": [
        {
          "output_type": "stream",
          "text": [
            "{'prevailed', 'led', 'coumba', 'national', 'ideas', 'savané', 'use', 'encouragement', 'age', 'assembly', 'joined', 'presidential', 'pds', 'named', 'abdoul', 'boycott', 'removed', 'fatick', 'salls', 'apr', 'opposition', 'caretaker', 'senegalese', 'strategy', 'engineer', 'minister', 'april', 'soon', 'june', 'left', 'socialist', 'well', 'geological', 'placing', 'february', 'reelected', 'november', 'sall', 'dakar', 'post', 'thimbo', 'party', 'trained', 'wade', 'president', 'share', 'brotherinlaw', 'december', 'consequently', 'peanut', 'amadou', 'high', 'voting', 'conflict', 'abdoulaye', 'candidates', 'maoists', 'voted', 'coming', 'five', 'savanés', 'children', 'mayor', 'second', 'election', 'studies', 'july', 'involved', 'round', 'father', 'university', 'macky', 'democratic', 'landing', 'school', 'first', 'held', 'independence', 'longtime', 'mboro', 'seller', 'raised', 'worker', 'march', 'senegal', 'member', 'associated', 'politician', 'tooro', 'movement', 'ps', 'andjëf', 'liberal', 'france', 'born', 'futa', 'founded', 'kaolack', 'marxistleninist', 'since', 'prime', 'state', 'backing'}\n"
          ],
          "name": "stdout"
        }
      ]
    },
    {
      "cell_type": "markdown",
      "metadata": {
        "id": "hno-WO7rDnRf"
      },
      "source": [
        "## **Word Representation**"
      ]
    },
    {
      "cell_type": "markdown",
      "metadata": {
        "id": "l4rAeJBpE2tk"
      },
      "source": [
        "We represent the words using count vectorizer."
      ]
    },
    {
      "cell_type": "code",
      "metadata": {
        "colab": {
          "base_uri": "https://localhost:8080/",
          "height": 253
        },
        "id": "I95oeJ5pYiUk",
        "outputId": "24ff8c42-0486-4f80-f649-f1ad92b96912"
      },
      "source": [
        "from sklearn.feature_extraction.text import CountVectorizer\n",
        "\n",
        "vectorizer = CountVectorizer()\n",
        "X = vectorizer.fit_transform(set(data))\n",
        "vectorized_words=pd.DataFrame(X.toarray(),columns=vectorizer.get_feature_names())\n",
        "vectorized_words.head()\n"
      ],
      "execution_count": 88,
      "outputs": [
        {
          "output_type": "execute_result",
          "data": {
            "text/html": [
              "<div>\n",
              "<style scoped>\n",
              "    .dataframe tbody tr th:only-of-type {\n",
              "        vertical-align: middle;\n",
              "    }\n",
              "\n",
              "    .dataframe tbody tr th {\n",
              "        vertical-align: top;\n",
              "    }\n",
              "\n",
              "    .dataframe thead th {\n",
              "        text-align: right;\n",
              "    }\n",
              "</style>\n",
              "<table border=\"1\" class=\"dataframe\">\n",
              "  <thead>\n",
              "    <tr style=\"text-align: right;\">\n",
              "      <th></th>\n",
              "      <th>abdoul</th>\n",
              "      <th>abdoulaye</th>\n",
              "      <th>age</th>\n",
              "      <th>amadou</th>\n",
              "      <th>andjëf</th>\n",
              "      <th>apr</th>\n",
              "      <th>april</th>\n",
              "      <th>assembly</th>\n",
              "      <th>associated</th>\n",
              "      <th>backing</th>\n",
              "      <th>born</th>\n",
              "      <th>boycott</th>\n",
              "      <th>brotherinlaw</th>\n",
              "      <th>candidates</th>\n",
              "      <th>caretaker</th>\n",
              "      <th>children</th>\n",
              "      <th>coming</th>\n",
              "      <th>conflict</th>\n",
              "      <th>consequently</th>\n",
              "      <th>coumba</th>\n",
              "      <th>dakar</th>\n",
              "      <th>december</th>\n",
              "      <th>democratic</th>\n",
              "      <th>election</th>\n",
              "      <th>encouragement</th>\n",
              "      <th>engineer</th>\n",
              "      <th>father</th>\n",
              "      <th>fatick</th>\n",
              "      <th>february</th>\n",
              "      <th>first</th>\n",
              "      <th>five</th>\n",
              "      <th>founded</th>\n",
              "      <th>france</th>\n",
              "      <th>futa</th>\n",
              "      <th>geological</th>\n",
              "      <th>held</th>\n",
              "      <th>high</th>\n",
              "      <th>ideas</th>\n",
              "      <th>independence</th>\n",
              "      <th>involved</th>\n",
              "      <th>...</th>\n",
              "      <th>pds</th>\n",
              "      <th>peanut</th>\n",
              "      <th>placing</th>\n",
              "      <th>politician</th>\n",
              "      <th>post</th>\n",
              "      <th>president</th>\n",
              "      <th>presidential</th>\n",
              "      <th>prevailed</th>\n",
              "      <th>prime</th>\n",
              "      <th>ps</th>\n",
              "      <th>raised</th>\n",
              "      <th>reelected</th>\n",
              "      <th>removed</th>\n",
              "      <th>round</th>\n",
              "      <th>sall</th>\n",
              "      <th>salls</th>\n",
              "      <th>savané</th>\n",
              "      <th>savanés</th>\n",
              "      <th>school</th>\n",
              "      <th>second</th>\n",
              "      <th>seller</th>\n",
              "      <th>senegal</th>\n",
              "      <th>senegalese</th>\n",
              "      <th>share</th>\n",
              "      <th>since</th>\n",
              "      <th>socialist</th>\n",
              "      <th>soon</th>\n",
              "      <th>state</th>\n",
              "      <th>strategy</th>\n",
              "      <th>studies</th>\n",
              "      <th>thimbo</th>\n",
              "      <th>tooro</th>\n",
              "      <th>trained</th>\n",
              "      <th>university</th>\n",
              "      <th>use</th>\n",
              "      <th>voted</th>\n",
              "      <th>voting</th>\n",
              "      <th>wade</th>\n",
              "      <th>well</th>\n",
              "      <th>worker</th>\n",
              "    </tr>\n",
              "  </thead>\n",
              "  <tbody>\n",
              "    <tr>\n",
              "      <th>0</th>\n",
              "      <td>0</td>\n",
              "      <td>0</td>\n",
              "      <td>0</td>\n",
              "      <td>0</td>\n",
              "      <td>0</td>\n",
              "      <td>0</td>\n",
              "      <td>0</td>\n",
              "      <td>0</td>\n",
              "      <td>0</td>\n",
              "      <td>0</td>\n",
              "      <td>0</td>\n",
              "      <td>0</td>\n",
              "      <td>0</td>\n",
              "      <td>0</td>\n",
              "      <td>0</td>\n",
              "      <td>0</td>\n",
              "      <td>0</td>\n",
              "      <td>0</td>\n",
              "      <td>0</td>\n",
              "      <td>0</td>\n",
              "      <td>0</td>\n",
              "      <td>0</td>\n",
              "      <td>0</td>\n",
              "      <td>0</td>\n",
              "      <td>0</td>\n",
              "      <td>0</td>\n",
              "      <td>0</td>\n",
              "      <td>0</td>\n",
              "      <td>0</td>\n",
              "      <td>0</td>\n",
              "      <td>0</td>\n",
              "      <td>0</td>\n",
              "      <td>0</td>\n",
              "      <td>0</td>\n",
              "      <td>0</td>\n",
              "      <td>0</td>\n",
              "      <td>0</td>\n",
              "      <td>0</td>\n",
              "      <td>0</td>\n",
              "      <td>0</td>\n",
              "      <td>...</td>\n",
              "      <td>0</td>\n",
              "      <td>0</td>\n",
              "      <td>0</td>\n",
              "      <td>0</td>\n",
              "      <td>0</td>\n",
              "      <td>0</td>\n",
              "      <td>0</td>\n",
              "      <td>1</td>\n",
              "      <td>0</td>\n",
              "      <td>0</td>\n",
              "      <td>0</td>\n",
              "      <td>0</td>\n",
              "      <td>0</td>\n",
              "      <td>0</td>\n",
              "      <td>0</td>\n",
              "      <td>0</td>\n",
              "      <td>0</td>\n",
              "      <td>0</td>\n",
              "      <td>0</td>\n",
              "      <td>0</td>\n",
              "      <td>0</td>\n",
              "      <td>0</td>\n",
              "      <td>0</td>\n",
              "      <td>0</td>\n",
              "      <td>0</td>\n",
              "      <td>0</td>\n",
              "      <td>0</td>\n",
              "      <td>0</td>\n",
              "      <td>0</td>\n",
              "      <td>0</td>\n",
              "      <td>0</td>\n",
              "      <td>0</td>\n",
              "      <td>0</td>\n",
              "      <td>0</td>\n",
              "      <td>0</td>\n",
              "      <td>0</td>\n",
              "      <td>0</td>\n",
              "      <td>0</td>\n",
              "      <td>0</td>\n",
              "      <td>0</td>\n",
              "    </tr>\n",
              "    <tr>\n",
              "      <th>1</th>\n",
              "      <td>0</td>\n",
              "      <td>0</td>\n",
              "      <td>0</td>\n",
              "      <td>0</td>\n",
              "      <td>0</td>\n",
              "      <td>0</td>\n",
              "      <td>0</td>\n",
              "      <td>0</td>\n",
              "      <td>0</td>\n",
              "      <td>0</td>\n",
              "      <td>0</td>\n",
              "      <td>0</td>\n",
              "      <td>0</td>\n",
              "      <td>0</td>\n",
              "      <td>0</td>\n",
              "      <td>0</td>\n",
              "      <td>0</td>\n",
              "      <td>0</td>\n",
              "      <td>0</td>\n",
              "      <td>0</td>\n",
              "      <td>0</td>\n",
              "      <td>0</td>\n",
              "      <td>0</td>\n",
              "      <td>0</td>\n",
              "      <td>0</td>\n",
              "      <td>0</td>\n",
              "      <td>0</td>\n",
              "      <td>0</td>\n",
              "      <td>0</td>\n",
              "      <td>0</td>\n",
              "      <td>0</td>\n",
              "      <td>0</td>\n",
              "      <td>0</td>\n",
              "      <td>0</td>\n",
              "      <td>0</td>\n",
              "      <td>0</td>\n",
              "      <td>0</td>\n",
              "      <td>0</td>\n",
              "      <td>0</td>\n",
              "      <td>0</td>\n",
              "      <td>...</td>\n",
              "      <td>0</td>\n",
              "      <td>0</td>\n",
              "      <td>0</td>\n",
              "      <td>0</td>\n",
              "      <td>0</td>\n",
              "      <td>0</td>\n",
              "      <td>0</td>\n",
              "      <td>0</td>\n",
              "      <td>0</td>\n",
              "      <td>0</td>\n",
              "      <td>0</td>\n",
              "      <td>0</td>\n",
              "      <td>0</td>\n",
              "      <td>0</td>\n",
              "      <td>0</td>\n",
              "      <td>0</td>\n",
              "      <td>0</td>\n",
              "      <td>0</td>\n",
              "      <td>0</td>\n",
              "      <td>0</td>\n",
              "      <td>0</td>\n",
              "      <td>0</td>\n",
              "      <td>0</td>\n",
              "      <td>0</td>\n",
              "      <td>0</td>\n",
              "      <td>0</td>\n",
              "      <td>0</td>\n",
              "      <td>0</td>\n",
              "      <td>0</td>\n",
              "      <td>0</td>\n",
              "      <td>0</td>\n",
              "      <td>0</td>\n",
              "      <td>0</td>\n",
              "      <td>0</td>\n",
              "      <td>0</td>\n",
              "      <td>0</td>\n",
              "      <td>0</td>\n",
              "      <td>0</td>\n",
              "      <td>0</td>\n",
              "      <td>0</td>\n",
              "    </tr>\n",
              "    <tr>\n",
              "      <th>2</th>\n",
              "      <td>0</td>\n",
              "      <td>0</td>\n",
              "      <td>0</td>\n",
              "      <td>0</td>\n",
              "      <td>0</td>\n",
              "      <td>0</td>\n",
              "      <td>0</td>\n",
              "      <td>0</td>\n",
              "      <td>0</td>\n",
              "      <td>0</td>\n",
              "      <td>0</td>\n",
              "      <td>0</td>\n",
              "      <td>0</td>\n",
              "      <td>0</td>\n",
              "      <td>0</td>\n",
              "      <td>0</td>\n",
              "      <td>0</td>\n",
              "      <td>0</td>\n",
              "      <td>0</td>\n",
              "      <td>1</td>\n",
              "      <td>0</td>\n",
              "      <td>0</td>\n",
              "      <td>0</td>\n",
              "      <td>0</td>\n",
              "      <td>0</td>\n",
              "      <td>0</td>\n",
              "      <td>0</td>\n",
              "      <td>0</td>\n",
              "      <td>0</td>\n",
              "      <td>0</td>\n",
              "      <td>0</td>\n",
              "      <td>0</td>\n",
              "      <td>0</td>\n",
              "      <td>0</td>\n",
              "      <td>0</td>\n",
              "      <td>0</td>\n",
              "      <td>0</td>\n",
              "      <td>0</td>\n",
              "      <td>0</td>\n",
              "      <td>0</td>\n",
              "      <td>...</td>\n",
              "      <td>0</td>\n",
              "      <td>0</td>\n",
              "      <td>0</td>\n",
              "      <td>0</td>\n",
              "      <td>0</td>\n",
              "      <td>0</td>\n",
              "      <td>0</td>\n",
              "      <td>0</td>\n",
              "      <td>0</td>\n",
              "      <td>0</td>\n",
              "      <td>0</td>\n",
              "      <td>0</td>\n",
              "      <td>0</td>\n",
              "      <td>0</td>\n",
              "      <td>0</td>\n",
              "      <td>0</td>\n",
              "      <td>0</td>\n",
              "      <td>0</td>\n",
              "      <td>0</td>\n",
              "      <td>0</td>\n",
              "      <td>0</td>\n",
              "      <td>0</td>\n",
              "      <td>0</td>\n",
              "      <td>0</td>\n",
              "      <td>0</td>\n",
              "      <td>0</td>\n",
              "      <td>0</td>\n",
              "      <td>0</td>\n",
              "      <td>0</td>\n",
              "      <td>0</td>\n",
              "      <td>0</td>\n",
              "      <td>0</td>\n",
              "      <td>0</td>\n",
              "      <td>0</td>\n",
              "      <td>0</td>\n",
              "      <td>0</td>\n",
              "      <td>0</td>\n",
              "      <td>0</td>\n",
              "      <td>0</td>\n",
              "      <td>0</td>\n",
              "    </tr>\n",
              "    <tr>\n",
              "      <th>3</th>\n",
              "      <td>0</td>\n",
              "      <td>0</td>\n",
              "      <td>0</td>\n",
              "      <td>0</td>\n",
              "      <td>0</td>\n",
              "      <td>0</td>\n",
              "      <td>0</td>\n",
              "      <td>0</td>\n",
              "      <td>0</td>\n",
              "      <td>0</td>\n",
              "      <td>0</td>\n",
              "      <td>0</td>\n",
              "      <td>0</td>\n",
              "      <td>0</td>\n",
              "      <td>0</td>\n",
              "      <td>0</td>\n",
              "      <td>0</td>\n",
              "      <td>0</td>\n",
              "      <td>0</td>\n",
              "      <td>0</td>\n",
              "      <td>0</td>\n",
              "      <td>0</td>\n",
              "      <td>0</td>\n",
              "      <td>0</td>\n",
              "      <td>0</td>\n",
              "      <td>0</td>\n",
              "      <td>0</td>\n",
              "      <td>0</td>\n",
              "      <td>0</td>\n",
              "      <td>0</td>\n",
              "      <td>0</td>\n",
              "      <td>0</td>\n",
              "      <td>0</td>\n",
              "      <td>0</td>\n",
              "      <td>0</td>\n",
              "      <td>0</td>\n",
              "      <td>0</td>\n",
              "      <td>0</td>\n",
              "      <td>0</td>\n",
              "      <td>0</td>\n",
              "      <td>...</td>\n",
              "      <td>0</td>\n",
              "      <td>0</td>\n",
              "      <td>0</td>\n",
              "      <td>0</td>\n",
              "      <td>0</td>\n",
              "      <td>0</td>\n",
              "      <td>0</td>\n",
              "      <td>0</td>\n",
              "      <td>0</td>\n",
              "      <td>0</td>\n",
              "      <td>0</td>\n",
              "      <td>0</td>\n",
              "      <td>0</td>\n",
              "      <td>0</td>\n",
              "      <td>0</td>\n",
              "      <td>0</td>\n",
              "      <td>0</td>\n",
              "      <td>0</td>\n",
              "      <td>0</td>\n",
              "      <td>0</td>\n",
              "      <td>0</td>\n",
              "      <td>0</td>\n",
              "      <td>0</td>\n",
              "      <td>0</td>\n",
              "      <td>0</td>\n",
              "      <td>0</td>\n",
              "      <td>0</td>\n",
              "      <td>0</td>\n",
              "      <td>0</td>\n",
              "      <td>0</td>\n",
              "      <td>0</td>\n",
              "      <td>0</td>\n",
              "      <td>0</td>\n",
              "      <td>0</td>\n",
              "      <td>0</td>\n",
              "      <td>0</td>\n",
              "      <td>0</td>\n",
              "      <td>0</td>\n",
              "      <td>0</td>\n",
              "      <td>0</td>\n",
              "    </tr>\n",
              "    <tr>\n",
              "      <th>4</th>\n",
              "      <td>0</td>\n",
              "      <td>0</td>\n",
              "      <td>0</td>\n",
              "      <td>0</td>\n",
              "      <td>0</td>\n",
              "      <td>0</td>\n",
              "      <td>0</td>\n",
              "      <td>0</td>\n",
              "      <td>0</td>\n",
              "      <td>0</td>\n",
              "      <td>0</td>\n",
              "      <td>0</td>\n",
              "      <td>0</td>\n",
              "      <td>0</td>\n",
              "      <td>0</td>\n",
              "      <td>0</td>\n",
              "      <td>0</td>\n",
              "      <td>0</td>\n",
              "      <td>0</td>\n",
              "      <td>0</td>\n",
              "      <td>0</td>\n",
              "      <td>0</td>\n",
              "      <td>0</td>\n",
              "      <td>0</td>\n",
              "      <td>0</td>\n",
              "      <td>0</td>\n",
              "      <td>0</td>\n",
              "      <td>0</td>\n",
              "      <td>0</td>\n",
              "      <td>0</td>\n",
              "      <td>0</td>\n",
              "      <td>0</td>\n",
              "      <td>0</td>\n",
              "      <td>0</td>\n",
              "      <td>0</td>\n",
              "      <td>0</td>\n",
              "      <td>0</td>\n",
              "      <td>1</td>\n",
              "      <td>0</td>\n",
              "      <td>0</td>\n",
              "      <td>...</td>\n",
              "      <td>0</td>\n",
              "      <td>0</td>\n",
              "      <td>0</td>\n",
              "      <td>0</td>\n",
              "      <td>0</td>\n",
              "      <td>0</td>\n",
              "      <td>0</td>\n",
              "      <td>0</td>\n",
              "      <td>0</td>\n",
              "      <td>0</td>\n",
              "      <td>0</td>\n",
              "      <td>0</td>\n",
              "      <td>0</td>\n",
              "      <td>0</td>\n",
              "      <td>0</td>\n",
              "      <td>0</td>\n",
              "      <td>0</td>\n",
              "      <td>0</td>\n",
              "      <td>0</td>\n",
              "      <td>0</td>\n",
              "      <td>0</td>\n",
              "      <td>0</td>\n",
              "      <td>0</td>\n",
              "      <td>0</td>\n",
              "      <td>0</td>\n",
              "      <td>0</td>\n",
              "      <td>0</td>\n",
              "      <td>0</td>\n",
              "      <td>0</td>\n",
              "      <td>0</td>\n",
              "      <td>0</td>\n",
              "      <td>0</td>\n",
              "      <td>0</td>\n",
              "      <td>0</td>\n",
              "      <td>0</td>\n",
              "      <td>0</td>\n",
              "      <td>0</td>\n",
              "      <td>0</td>\n",
              "      <td>0</td>\n",
              "      <td>0</td>\n",
              "    </tr>\n",
              "  </tbody>\n",
              "</table>\n",
              "<p>5 rows × 103 columns</p>\n",
              "</div>"
            ],
            "text/plain": [
              "   abdoul  abdoulaye  age  amadou  andjëf  ...  voted  voting  wade  well  worker\n",
              "0       0          0    0       0       0  ...      0       0     0     0       0\n",
              "1       0          0    0       0       0  ...      0       0     0     0       0\n",
              "2       0          0    0       0       0  ...      0       0     0     0       0\n",
              "3       0          0    0       0       0  ...      0       0     0     0       0\n",
              "4       0          0    0       0       0  ...      0       0     0     0       0\n",
              "\n",
              "[5 rows x 103 columns]"
            ]
          },
          "metadata": {
            "tags": []
          },
          "execution_count": 88
        }
      ]
    },
    {
      "cell_type": "code",
      "metadata": {
        "id": "7BYh4CsT9Skw",
        "colab": {
          "base_uri": "https://localhost:8080/"
        },
        "outputId": "14f136e5-b90d-4d70-d26e-055c79dd26a7"
      },
      "source": [
        "vectorized_words.shape"
      ],
      "execution_count": 89,
      "outputs": [
        {
          "output_type": "execute_result",
          "data": {
            "text/plain": [
              "(103, 103)"
            ]
          },
          "metadata": {
            "tags": []
          },
          "execution_count": 89
        }
      ]
    },
    {
      "cell_type": "markdown",
      "metadata": {
        "id": "L7bbJxvnDft9"
      },
      "source": [
        "**SVD**"
      ]
    },
    {
      "cell_type": "code",
      "metadata": {
        "colab": {
          "base_uri": "https://localhost:8080/",
          "height": 592
        },
        "id": "5w_DVzJfjvpm",
        "outputId": "33807167-8f5e-4bae-8f82-6340665914e3"
      },
      "source": [
        "\n",
        "svd =  TruncatedSVD(n_components = 2)\n",
        "A_transf = svd.fit_transform(vectorized_words)\n",
        "\n",
        "plt.figure(figsize=(15,10))\n",
        "for i, txt in enumerate(set(data)):\n",
        "  plt.scatter(A_transf[i,0],A_transf[i, 1])\n",
        "  plt.annotate(txt,xy=(A_transf[i,0],A_transf[i, 1]))\n",
        "plt.show()\n"
      ],
      "execution_count": 90,
      "outputs": [
        {
          "output_type": "display_data",
          "data": {
            "image/png": "[encoded data removed]",
            "text/plain": [
              "<Figure size 1080x720 with 1 Axes>"
            ]
          },
          "metadata": {
            "tags": [],
            "needs_background": "light"
          }
        }
      ]
    },
    {
      "cell_type": "code",
      "metadata": {
        "colab": {
          "base_uri": "https://localhost:8080/"
        },
        "id": "eD9dm0hJ5gNF",
        "outputId": "51ce656f-e167-4936-ea17-b3da5bdbf449"
      },
      "source": [
        "A_transf.shape"
      ],
      "execution_count": 71,
      "outputs": [
        {
          "output_type": "execute_result",
          "data": {
            "text/plain": [
              "(705, 2)"
            ]
          },
          "metadata": {
            "tags": []
          },
          "execution_count": 71
        }
      ]
    },
    {
      "cell_type": "markdown",
      "metadata": {
        "id": "l9U4_5EP456q"
      },
      "source": [
        "## **Word2vec**"
      ]
    },
    {
      "cell_type": "code",
      "metadata": {
        "id": "DkmmrssVmMtl"
      },
      "source": [
        "from gensim.models import Word2Vec"
      ],
      "execution_count": 16,
      "outputs": []
    },
    {
      "cell_type": "code",
      "metadata": {
        "colab": {
          "base_uri": "https://localhost:8080/"
        },
        "id": "QpCuyyS5Zywt",
        "outputId": "3367e452-4995-4397-ac5a-a48100cd965c"
      },
      "source": [
        "tokens = [tokenizer.tokenize(s) for s in new_string.split('\\n')]\n",
        "w2v_model = Word2Vec(tokens,min_count=2, window=5, size=5)\n",
        "w2v_model"
      ],
      "execution_count": 28,
      "outputs": [
        {
          "output_type": "execute_result",
          "data": {
            "text/plain": [
              "<gensim.models.word2vec.Word2Vec at 0x7fafaac555d0>"
            ]
          },
          "metadata": {
            "tags": []
          },
          "execution_count": 28
        }
      ]
    },
    {
      "cell_type": "code",
      "metadata": {
        "id": "G8OkvZh4mTeq"
      },
      "source": [
        "w2v_model.save(\"word2vec.model\")\n",
        "w2v_model.save(\"model.bin\")"
      ],
      "execution_count": 32,
      "outputs": []
    },
    {
      "cell_type": "code",
      "metadata": {
        "id": "E08zwI7vmhg5"
      },
      "source": [
        "model=Word2Vec.load(\"model.bin\")\n",
        "model1=Word2Vec.load(\"word2vec.model\")"
      ],
      "execution_count": 48,
      "outputs": []
    },
    {
      "cell_type": "code",
      "metadata": {
        "id": "RaFfhxdAdl9x"
      },
      "source": [
        "vocab = list(w2v_model.wv.vocab)\n",
        "#vocab"
      ],
      "execution_count": 92,
      "outputs": []
    },
    {
      "cell_type": "code",
      "metadata": {
        "id": "HCKWc5oO9M7p"
      },
      "source": [
        "data1=vocab[:150]# We take the 150 first words and represente them."
      ],
      "execution_count": 94,
      "outputs": []
    },
    {
      "cell_type": "code",
      "metadata": {
        "id": "Yt7N7r5nf2Tr"
      },
      "source": [
        "k=model1.wv[vocab]"
      ],
      "execution_count": 95,
      "outputs": []
    },
    {
      "cell_type": "code",
      "metadata": {
        "id": "zu_taiMBpQuR"
      },
      "source": [
        "model=Word2Vec(tokens)"
      ],
      "execution_count": 96,
      "outputs": []
    },
    {
      "cell_type": "code",
      "metadata": {
        "colab": {
          "base_uri": "https://localhost:8080/",
          "height": 592
        },
        "id": "siqj3nP4hP01",
        "outputId": "3e5dee85-c40c-4a5a-c77d-47536c67af77"
      },
      "source": [
        "\n",
        "svd =  TruncatedSVD(n_components = 2)\n",
        "A_transf = svd.fit_transform(k)\n",
        "\n",
        "plt.figure(figsize=(15,10))\n",
        "for i, txt in enumerate(set(data1)):\n",
        "  plt.scatter(A_transf[i,0],A_transf[i, 1])\n",
        "  plt.annotate(txt,xy=(A_transf[i,0],A_transf[i, 1]))\n",
        "plt.show()\n"
      ],
      "execution_count": 97,
      "outputs": [
        {
          "output_type": "display_data",
          "data": {
            "image/png": "[encoded data removed]",
            "text/plain": [
              "<Figure size 1080x720 with 1 Axes>"
            ]
          },
          "metadata": {
            "tags": [],
            "needs_background": "light"
          }
        }
      ]
    },
    {
      "cell_type": "markdown",
      "metadata": {
        "id": "Y7OQP0pmDq1U"
      },
      "source": [
        "## COMPARISON\n",
        "## *>SVD*\n",
        "## For the SVD, we notice a better representation for some of 150 words according to the similarities between them.\n",
        "## for instance, the words \"macky\" and \"landing\" are very close due to the fact they were in the same political coalition.\n",
        "## In the same way, the words \"president\" and \"state\" are close due to the fact that the \"president\" run the \"state\".\n",
        "\n",
        "\n",
        "\n",
        "## *>WORD2VEC*\n",
        "\n",
        "## As we see in this case, using the Word2vec method, we represent a sample of 150 words from the vocabulary, we notice that it has done some good representation of some words like \"macky\" and \"election\", also \"party\" and \"won\", \"mayor\" and \"candidates\" and so on. \n",
        "\n",
        "\n",
        "\n",
        "\n",
        "# As remark, this representation is just for the 150 first words that are not necessarily linked, and for that we had used the whole vocabulary, we would have a better representation based on similarities of the words.\n"
      ]
    }
  ]
}